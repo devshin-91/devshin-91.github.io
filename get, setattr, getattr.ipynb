{
  "cells": [
    {
      "cell_type": "markdown",
      "metadata": {
        "id": "view-in-github",
        "colab_type": "text"
      },
      "source": [
        "<a href=\"https://colab.research.google.com/github/devshin-91/devshin-91.github.io/blob/main/get%2C%20setattr%2C%20getattr.ipynb\" target=\"_parent\"><img src=\"https://colab.research.google.com/assets/colab-badge.svg\" alt=\"Open In Colab\"/></a>"
      ]
    },
    {
      "cell_type": "code",
      "execution_count": 1,
      "id": "96923562",
      "metadata": {
        "id": "96923562"
      },
      "outputs": [],
      "source": [
        "# 우편번호 정렬\n",
        "# key값과 get을 통한 정렬"
      ]
    },
    {
      "cell_type": "code",
      "execution_count": 2,
      "id": "b35b3d48",
      "metadata": {
        "id": "b35b3d48"
      },
      "outputs": [],
      "source": [
        "data = [['제주시 A동 한라산길 61', '제주시 B동 백록담길 63', '제주시 C동 사라봉길 31'],\n",
        "        {'A동': 63007, 'B동': 63010, 'C동': 63002}]"
      ]
    },
    {
      "cell_type": "code",
      "execution_count": 3,
      "id": "63fab77a",
      "metadata": {
        "colab": {
          "base_uri": "https://localhost:8080/"
        },
        "id": "63fab77a",
        "outputId": "b2360f21-5805-4908-cc7d-4fbd70100d58"
      },
      "outputs": [
        {
          "output_type": "stream",
          "name": "stdout",
          "text": [
            "['제주시 A동 한라산길 61', '제주시 B동 백록담길 63', '제주시 C동 사라봉길 31']\n",
            "{'A동': 63007, 'B동': 63010, 'C동': 63002}\n"
          ]
        }
      ],
      "source": [
        "a, b = data\n",
        "print(a)\n",
        "print(b)"
      ]
    },
    {
      "cell_type": "code",
      "execution_count": 4,
      "id": "05276045",
      "metadata": {
        "id": "05276045"
      },
      "outputs": [],
      "source": [
        "# step1 : a와 b의 공통사항이 동 이름이므로 동 이름을 이용해서 연결해보자.\n",
        "#        그렇다면 a에서 어떻게 추출하면 b의 키와 같은 값을 뽑을 수 있는지 확인해보자."
      ]
    },
    {
      "cell_type": "code",
      "execution_count": 5,
      "id": "0489ff9e",
      "metadata": {
        "colab": {
          "base_uri": "https://localhost:8080/"
        },
        "id": "0489ff9e",
        "outputId": "63cba71a-5b30-449e-a6ae-e80173fafbac"
      },
      "outputs": [
        {
          "output_type": "stream",
          "name": "stdout",
          "text": [
            "A동\n",
            "B동\n",
            "C동\n"
          ]
        }
      ],
      "source": [
        "for i in a:\n",
        "    # print(i) # 제주시 A동 한라산길 61\n",
        "    # print(i.split(' ')) # ['제주시', 'A동', '한라산길', '61']\n",
        "    print(i.split(' ')[1]) # A동"
      ]
    },
    {
      "cell_type": "code",
      "execution_count": 6,
      "id": "fe74ecd2",
      "metadata": {
        "colab": {
          "base_uri": "https://localhost:8080/"
        },
        "id": "fe74ecd2",
        "outputId": "6b6d4635-78bc-4c57-c15b-e444340b1784"
      },
      "outputs": [
        {
          "output_type": "stream",
          "name": "stdout",
          "text": [
            "A동\n",
            "B동\n",
            "C동\n"
          ]
        }
      ],
      "source": [
        "for i in b:\n",
        "    print(i)"
      ]
    },
    {
      "cell_type": "code",
      "execution_count": 7,
      "id": "762c04db",
      "metadata": {
        "id": "762c04db"
      },
      "outputs": [],
      "source": [
        "# step 2 : 정렬대상은 a고 정렬 기준은 동이름의 키에 해당하는 값이다.\n",
        "#          a에서 b의 키와 동일한 값을 추출할 수 있는 점 이용\n",
        "#          B의 키 a의 element.split(' ')[1]\n",
        "#          정렬대상 = a, 정렬 기준 = b.get(x.split(' ')[1]) # a의 element를 x라고 가정"
      ]
    },
    {
      "cell_type": "code",
      "execution_count": 8,
      "id": "f9b92140",
      "metadata": {
        "colab": {
          "base_uri": "https://localhost:8080/"
        },
        "id": "f9b92140",
        "outputId": "4fc84f53-16b6-4437-d65a-d3b7766b4c6f"
      },
      "outputs": [
        {
          "output_type": "execute_result",
          "data": {
            "text/plain": [
              "['제주시 C동 사라봉길 31', '제주시 A동 한라산길 61', '제주시 B동 백록담길 63']"
            ]
          },
          "metadata": {},
          "execution_count": 8
        }
      ],
      "source": [
        "sorted(a, key = lambda x: b.get(x.split(' ')[1]))"
      ]
    },
    {
      "cell_type": "code",
      "execution_count": 9,
      "id": "bd63abe4",
      "metadata": {
        "id": "bd63abe4"
      },
      "outputs": [],
      "source": [
        "# get을 통한 예외처리"
      ]
    },
    {
      "cell_type": "code",
      "execution_count": 10,
      "id": "4e6b0f6c",
      "metadata": {
        "id": "4e6b0f6c"
      },
      "outputs": [],
      "source": [
        "dic = {'a' : 1, 'b':2, 'c': 3}"
      ]
    },
    {
      "cell_type": "code",
      "execution_count": 11,
      "id": "f13a2c07",
      "metadata": {
        "colab": {
          "base_uri": "https://localhost:8080/"
        },
        "id": "f13a2c07",
        "outputId": "4da153ca-c049-4057-d59e-0af7b3c25579"
      },
      "outputs": [
        {
          "output_type": "stream",
          "name": "stdout",
          "text": [
            "1\n",
            "1\n",
            "2\n",
            "2\n",
            "3\n",
            "3\n"
          ]
        }
      ],
      "source": [
        "for i in dic:\n",
        "    print(dic[i])\n",
        "    print(dic.get(i))"
      ]
    },
    {
      "cell_type": "code",
      "execution_count": 12,
      "id": "54ad3398",
      "metadata": {
        "colab": {
          "base_uri": "https://localhost:8080/",
          "height": 186
        },
        "id": "54ad3398",
        "outputId": "20c7b278-d5a1-4074-a2da-f739fe2a78f9"
      },
      "outputs": [
        {
          "output_type": "error",
          "ename": "KeyError",
          "evalue": "'d'",
          "traceback": [
            "\u001b[0;31m---------------------------------------------------------------------------\u001b[0m",
            "\u001b[0;31mKeyError\u001b[0m                                  Traceback (most recent call last)",
            "\u001b[0;32m<ipython-input-12-9551b6401d78>\u001b[0m in \u001b[0;36m<cell line: 1>\u001b[0;34m()\u001b[0m\n\u001b[0;32m----> 1\u001b[0;31m \u001b[0mprint\u001b[0m\u001b[0;34m(\u001b[0m\u001b[0mdic\u001b[0m\u001b[0;34m[\u001b[0m\u001b[0;34m'd'\u001b[0m\u001b[0;34m]\u001b[0m\u001b[0;34m)\u001b[0m\u001b[0;34m\u001b[0m\u001b[0;34m\u001b[0m\u001b[0m\n\u001b[0m",
            "\u001b[0;31mKeyError\u001b[0m: 'd'"
          ]
        }
      ],
      "source": [
        "print(dic['d'])"
      ]
    },
    {
      "cell_type": "code",
      "execution_count": 13,
      "id": "1b31a446",
      "metadata": {
        "colab": {
          "base_uri": "https://localhost:8080/"
        },
        "id": "1b31a446",
        "outputId": "f201baf6-a82a-4fa3-94d7-75e356781d80"
      },
      "outputs": [
        {
          "output_type": "stream",
          "name": "stdout",
          "text": [
            "None\n"
          ]
        }
      ],
      "source": [
        "print(dic.get('d'))"
      ]
    },
    {
      "cell_type": "code",
      "execution_count": 14,
      "id": "b927fec5",
      "metadata": {
        "colab": {
          "base_uri": "https://localhost:8080/"
        },
        "id": "b927fec5",
        "outputId": "5a740590-4365-4b00-ecb6-2c9f473fd394"
      },
      "outputs": [
        {
          "output_type": "stream",
          "name": "stdout",
          "text": [
            "존재하지 않는 키입니다.\n"
          ]
        }
      ],
      "source": [
        "print(dic.get('d', '존재하지 않는 키입니다.'))"
      ]
    },
    {
      "cell_type": "code",
      "execution_count": null,
      "id": "4e14f5be",
      "metadata": {
        "id": "4e14f5be"
      },
      "outputs": [],
      "source": [
        "# setattr"
      ]
    },
    {
      "cell_type": "code",
      "execution_count": 15,
      "id": "baed26e1",
      "metadata": {
        "id": "baed26e1"
      },
      "outputs": [],
      "source": [
        "import sys\n",
        "import random\n",
        "mod = sys.modules[__name__]\n",
        "for i in range(5):\n",
        "    setattr(mod, f'var{i+1}', i+1)"
      ]
    },
    {
      "cell_type": "code",
      "execution_count": null,
      "id": "aa83b51e",
      "metadata": {
        "id": "aa83b51e"
      },
      "outputs": [],
      "source": [
        "# getattr"
      ]
    },
    {
      "cell_type": "code",
      "execution_count": 16,
      "id": "fd653bc3",
      "metadata": {
        "colab": {
          "base_uri": "https://localhost:8080/"
        },
        "id": "fd653bc3",
        "outputId": "6b6d6393-e7b2-493d-8186-904f11ba4664"
      },
      "outputs": [
        {
          "output_type": "stream",
          "name": "stdout",
          "text": [
            "1\n",
            "2\n",
            "3\n",
            "4\n",
            "5\n"
          ]
        }
      ],
      "source": [
        "for i in range(5):\n",
        "    print(getattr(mod, f'var{i+1}'))"
      ]
    }
  ],
  "metadata": {
    "kernelspec": {
      "display_name": "Python 3 (ipykernel)",
      "language": "python",
      "name": "python3"
    },
    "language_info": {
      "codemirror_mode": {
        "name": "ipython",
        "version": 3
      },
      "file_extension": ".py",
      "mimetype": "text/x-python",
      "name": "python",
      "nbconvert_exporter": "python",
      "pygments_lexer": "ipython3",
      "version": "3.9.16"
    },
    "colab": {
      "provenance": [],
      "include_colab_link": true
    }
  },
  "nbformat": 4,
  "nbformat_minor": 5
}